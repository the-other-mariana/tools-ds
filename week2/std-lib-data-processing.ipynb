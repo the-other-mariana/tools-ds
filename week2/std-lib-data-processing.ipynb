{
 "cells": [
  {
   "cell_type": "code",
   "execution_count": 1,
   "id": "aa9b0720",
   "metadata": {},
   "outputs": [
    {
     "name": "stdout",
     "output_type": "stream",
     "text": [
      "[',Bib,Name,Age,M/F,City,State,Country,Citizen,,5K,10K,15K,20K,Half,25K,30K,35K,40K,Pace,Proj Time,Official Time,Overall,Gender,Division\\n']\n",
      "Bib\n",
      "['', 'Bib', 'Name', 'Age', 'M/F', 'City', 'State', 'Country', 'Citizen', '', '5K', '10K', '15K', '20K', 'Half', '25K', '30K', '35K', '40K', 'Pace', 'Proj Time', 'Official Time', 'Overall', 'Gender', 'Division\\n']\n",
      "Age\n"
     ]
    },
    {
     "data": {
      "text/plain": [
       "['0',\n",
       " '3',\n",
       " '\"Desisa',\n",
       " ' Lelisa\"',\n",
       " '25',\n",
       " 'M',\n",
       " 'Ambo',\n",
       " '',\n",
       " 'ETH',\n",
       " '',\n",
       " '',\n",
       " '0:14:43',\n",
       " '0:29:43',\n",
       " '0:44:57',\n",
       " '1:00:29',\n",
       " '1:04:02',\n",
       " '1:16:07',\n",
       " '1:32:00',\n",
       " '1:47:59',\n",
       " '2:02:39',\n",
       " '0:04:56',\n",
       " '-',\n",
       " '2:09:17',\n",
       " '1',\n",
       " '1',\n",
       " '1\\n']"
      ]
     },
     "execution_count": 1,
     "metadata": {},
     "output_type": "execute_result"
    }
   ],
   "source": [
    "path='marathon_results_2015.csv'\n",
    "f = open(path)\n",
    "lines = f.readlines() # return an iterator with all file lines\n",
    "print(lines[0:1]) # 0 has headers # print only a string\n",
    "\n",
    "# prints ['lines[0:1]\\n'] # in array mode\n",
    "string = lines[0]\n",
    "print(string[1:4])\n",
    "categories = string.split(',')\n",
    "print(categories)\n",
    "print(categories[3])\n",
    "\n",
    "participants = []\n",
    "for line in lines[1:]:\n",
    "    participants.append(line.split(\",\"))\n",
    "    \n",
    "participants[0] # winner, they are ordered"
   ]
  },
  {
   "cell_type": "code",
   "execution_count": 2,
   "id": "f1dcfaeb",
   "metadata": {},
   "outputs": [
    {
     "name": "stdout",
     "output_type": "stream",
     "text": [
      "['', 'Bib', 'Name', 'Age', 'M/F', 'City', 'State', 'Country', 'Citizen', '', '5K', '10K', '15K', '20K', 'Half', '25K', '30K', '35K', '40K', 'Pace', 'Proj Time', 'Official Time', 'Overall', 'Gender', 'Division']\n",
      "['0', '3', 'Desisa, Lelisa', '25', 'M', 'Ambo', '', 'ETH', '', '', '0:14:43', '0:29:43', '0:44:57', '1:00:29', '1:04:02', '1:16:07', '1:32:00', '1:47:59', '2:02:39', '0:04:56', '-', '2:09:17', '1', '1', '1']\n",
      "Name Age Country\n",
      "Name: Desisa, Lelisa, Age: 25, Country: ETH\n"
     ]
    }
   ],
   "source": [
    "import csv # comma sep values\n",
    "path='marathon_results_2015.csv'\n",
    "f = open(path)\n",
    "\n",
    "data = csv.reader(f)\n",
    "\n",
    "categories = next(data) # pointer to first line, next prints the pointer data and moves pointer to next # line 0\n",
    "print(categories)\n",
    "participant = next(data) # line 1\n",
    "print(participant)\n",
    "\n",
    "print(categories[2], categories[3], categories[7])\n",
    "print(f\"{categories[2]}: {participant[2]}, {categories[3]}: {participant[3]}, {categories[7]}: {participant[7]}\")"
   ]
  },
  {
   "cell_type": "code",
   "execution_count": 4,
   "id": "bada8e22",
   "metadata": {},
   "outputs": [
    {
     "name": "stdout",
     "output_type": "stream",
     "text": [
      "Desisa, Lelisa ETH\n"
     ]
    }
   ],
   "source": [
    "# Save in a dictionary: in order to see categories and data together (avoid indexes 2, 3 and 7)\n",
    "\n",
    "import csv # comma sep values\n",
    "path='marathon_results_2015.csv'\n",
    "f = open(path)\n",
    "data = csv.reader(f)\n",
    "\n",
    "categories = next(data) \n",
    "participant = next(data) \n",
    "\n",
    "pd = dict()\n",
    "# zip allows to iterate through two lists at the same time\n",
    "for c, p in zip(categories, participant):\n",
    "    pd[c] = p\n",
    "    \n",
    "print(pd[\"Name\"], pd[\"Country\"])"
   ]
  },
  {
   "cell_type": "code",
   "execution_count": 5,
   "id": "a959cbc2",
   "metadata": {},
   "outputs": [
    {
     "data": {
      "text/plain": [
       "{'': '',\n",
       " 'Bib': '3',\n",
       " 'Name': 'Desisa, Lelisa',\n",
       " 'Age': '25',\n",
       " 'M/F': 'M',\n",
       " 'City': 'Ambo',\n",
       " 'State': '',\n",
       " 'Country': 'ETH',\n",
       " 'Citizen': '',\n",
       " '5K': '0:14:43',\n",
       " '10K': '0:29:43',\n",
       " '15K': '0:44:57',\n",
       " '20K': '1:00:29',\n",
       " 'Half': '1:04:02',\n",
       " '25K': '1:16:07',\n",
       " '30K': '1:32:00',\n",
       " '35K': '1:47:59',\n",
       " '40K': '2:02:39',\n",
       " 'Pace': '0:04:56',\n",
       " 'Proj Time': '-',\n",
       " 'Official Time': '2:09:17',\n",
       " 'Overall': '1',\n",
       " 'Gender': '1',\n",
       " 'Division': '1'}"
      ]
     },
     "execution_count": 5,
     "metadata": {},
     "output_type": "execute_result"
    }
   ],
   "source": [
    "# Format every runner\n",
    "import csv # comma sep values\n",
    "path='marathon_results_2015.csv'\n",
    "f = open(path)\n",
    "data = csv.reader(f)\n",
    "\n",
    "categories = next(data) \n",
    "# participant = next(data) \n",
    "runners = []\n",
    "\n",
    "for participant in data:\n",
    "    pd = dict()\n",
    "    for c, p in zip(categories, participant):\n",
    "        pd[c] = p\n",
    "    runners.append(pd)\n",
    "    \n",
    "runners[0]  # dicts are ordered alphabetically"
   ]
  },
  {
   "cell_type": "code",
   "execution_count": 7,
   "id": "8aba8add",
   "metadata": {},
   "outputs": [
    {
     "data": {
      "text/plain": [
       "'4:00:00'"
      ]
     },
     "execution_count": 7,
     "metadata": {},
     "output_type": "execute_result"
    }
   ],
   "source": [
    "# Save data as object\n",
    "from dataclasses import dataclass\n",
    "\n",
    "# decorator: it automatically defines def __init__ and __repr__\n",
    "@dataclass\n",
    "class Runner:\n",
    "    name: str = \"\"\n",
    "    country: str = \"\"\n",
    "    age: int = 0\n",
    "    time: str = \"\"\n",
    "        \n",
    "miguel = Runner(\"Miguel Alcaraz\", \"Mexico\", 39, \"4:00:00\")\n",
    "miguel.time"
   ]
  },
  {
   "cell_type": "code",
   "execution_count": 8,
   "id": "ececcc74",
   "metadata": {},
   "outputs": [
    {
     "data": {
      "text/plain": [
       "Runner(name='Desisa, Lelisa', country='ETH', age='25', time='2:09:17')"
      ]
     },
     "execution_count": 8,
     "metadata": {},
     "output_type": "execute_result"
    }
   ],
   "source": [
    "import csv # comma sep values\n",
    "path='marathon_results_2015.csv'\n",
    "f = open(path)\n",
    "data = csv.reader(f)\n",
    "\n",
    "categories = next(data)  \n",
    "runners = []\n",
    "\n",
    "for participant in data:\n",
    "    pd = dict()\n",
    "    for c, p in zip(categories, participant):\n",
    "        pd[c] = p\n",
    "    runners.append(pd)\n",
    "    \n",
    "runners_objs = []\n",
    "for r in runners:\n",
    "    runner = Runner()\n",
    "    runner.name = r['Name']\n",
    "    runner.age = r['Age']\n",
    "    runner.time = r['Official Time']\n",
    "    runner.country = r['Country']\n",
    "    runners_objs.append(runner)\n",
    "    \n",
    "runners_objs[0]"
   ]
  },
  {
   "cell_type": "code",
   "execution_count": 9,
   "id": "1166a138",
   "metadata": {},
   "outputs": [
    {
     "data": {
      "text/plain": [
       "Runner(name='Rotich, Caroline', country='KEN', age=0, time='2:24:55')"
      ]
     },
     "execution_count": 9,
     "metadata": {},
     "output_type": "execute_result"
    }
   ],
   "source": [
    "# data filtering\n",
    "## list generation\n",
    "\n",
    "import csv # comma sep values\n",
    "path='marathon_results_2015.csv'\n",
    "f = open(path)\n",
    "data = csv.reader(f)\n",
    "\n",
    "categories = next(data)  \n",
    "runners = []\n",
    "\n",
    "runners_list = []\n",
    "\n",
    "'''\n",
    "# data is a pointer, if you leave this you wont be able to iterate again\n",
    "for particpant in data:\n",
    "    runners.append(participant)\n",
    "'''\n",
    "    \n",
    "# runners = [ Runner(name=p[2], time=p[21]) for p in data ]\n",
    "women = [ Runner(name=p[2],country=p[7],time=p[21]) for p in data if p[4] == 'F']\n",
    "women[0] # winner"
   ]
  },
  {
   "cell_type": "code",
   "execution_count": null,
   "id": "dfbe1172",
   "metadata": {},
   "outputs": [],
   "source": []
  }
 ],
 "metadata": {
  "kernelspec": {
   "display_name": "Python 3",
   "language": "python",
   "name": "python3"
  },
  "language_info": {
   "codemirror_mode": {
    "name": "ipython",
    "version": 3
   },
   "file_extension": ".py",
   "mimetype": "text/x-python",
   "name": "python",
   "nbconvert_exporter": "python",
   "pygments_lexer": "ipython3",
   "version": "3.8.8"
  }
 },
 "nbformat": 4,
 "nbformat_minor": 5
}
