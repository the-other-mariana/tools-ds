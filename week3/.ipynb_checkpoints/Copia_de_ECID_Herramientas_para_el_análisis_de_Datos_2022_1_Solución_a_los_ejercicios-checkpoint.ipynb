{
 "cells": [
  {
   "cell_type": "code",
   "execution_count": null,
   "metadata": {
    "id": "ra4fMESINtm-"
   },
   "outputs": [],
   "source": [
    "%%capture\n",
    "!wget https://raw.githubusercontent.com/DRMiguelAR/Herramientas_Analisis/master/atp_matches_2017.csv\n",
    "!wget https://raw.githubusercontent.com/DRMiguelAR/Herramientas_Analisis/master/atp_matches_2016.csv\n",
    "!wget https://raw.githubusercontent.com/DRMiguelAR/Herramientas_Analisis/master/atp_matches_2015.csv\n",
    "!wget https://raw.githubusercontent.com/DRMiguelAR/Herramientas_Analisis/master/atp_matches_2014.csv\n",
    "!wget https://raw.githubusercontent.com/DRMiguelAR/Herramientas_Analisis/master/atp_matches_2013.csv\n",
    "!wget https://raw.githubusercontent.com/DRMiguelAR/Herramientas_Analisis/master/atp_matches_2012.csv"
   ]
  },
  {
   "cell_type": "markdown",
   "metadata": {
    "id": "nlXTuRc-crZk"
   },
   "source": [
    "# Integrantes del equipo:\n",
    "- Nombre 1  \n",
    "- Nombre 2"
   ]
  },
  {
   "cell_type": "markdown",
   "metadata": {
    "id": "36Dr91FYR665"
   },
   "source": [
    "# Manejo de datos\n",
    "- Extrae las categorías del archivo.\n"
   ]
  },
  {
   "cell_type": "code",
   "execution_count": null,
   "metadata": {
    "colab": {
     "base_uri": "https://localhost:8080/"
    },
    "id": "v1c5u-dnS7qV",
    "outputId": "507a2649-ddf5-4af0-ce14-acd015789f0f"
   },
   "outputs": [
    {
     "name": "stdout",
     "output_type": "stream",
     "text": [
      "15235\n"
     ]
    }
   ],
   "source": [
    "import csv\n",
    "# categorías\n",
    "años=[2,3,4,5,6,7]\n",
    "l=[]\n",
    "for i in años:\n",
    "    f = open(f\"atp_matches_201{i}.csv\")\n",
    "    data = csv.reader(f)\n",
    "    categorias = next(data)\n",
    "    l+= list(data)\n",
    "print(len(l))"
   ]
  },
  {
   "cell_type": "markdown",
   "metadata": {
    "id": "wRZmG5RyS5pM"
   },
   "source": [
    "- Crea una lista con cada partido,   \n",
    "donde los datos de cada partido sean un diccionario.   \n",
    "Con las categorías como llave y el valor como el contenido.\n"
   ]
  },
  {
   "cell_type": "code",
   "execution_count": null,
   "metadata": {
    "colab": {
     "base_uri": "https://localhost:8080/"
    },
    "id": "OxualnL4TCxp",
    "outputId": "0e248e93-57f8-4114-f0f5-ed9609cc8ad8"
   },
   "outputs": [
    {
     "data": {
      "text/plain": [
       "15235"
      ]
     },
     "execution_count": 7,
     "metadata": {},
     "output_type": "execute_result"
    }
   ],
   "source": [
    "# partidos\n",
    "años = [ str(n) for n in range(2012, 2018)]\n",
    "partidos = []\n",
    "for año in años:\n",
    "    f = open(f\"atp_matches_{año}.csv\")\n",
    "    data = csv.reader(f)\n",
    "    categorias = next(data)\n",
    "    for partido in data:\n",
    "        partidos.append( {categoria:valor for categoria,valor in zip (categorias, partido) } )\n",
    "len(partidos)\n"
   ]
  },
  {
   "cell_type": "code",
   "execution_count": null,
   "metadata": {
    "id": "rduTMJfkE5Ke"
   },
   "outputs": [],
   "source": []
  },
  {
   "cell_type": "markdown",
   "metadata": {
    "id": "g6CjfgXFTFCm"
   },
   "source": [
    "# Filtrado de datos\n",
    "- Haz un conjunto de todos los nombres de ganadores de partidos.\n"
   ]
  },
  {
   "cell_type": "code",
   "execution_count": null,
   "metadata": {
    "colab": {
     "base_uri": "https://localhost:8080/"
    },
    "id": "UVHDrofrTHpm",
    "outputId": "685342c6-cb05-4168-aa5c-77eeb3172669"
   },
   "outputs": [
    {
     "data": {
      "text/plain": [
       "598"
      ]
     },
     "execution_count": 9,
     "metadata": {},
     "output_type": "execute_result"
    }
   ],
   "source": [
    "ganadores = { partido[\"winner_name\"] for partido in partidos }\n",
    "len(ganadores)"
   ]
  },
  {
   "cell_type": "markdown",
   "metadata": {
    "id": "MhOuV9WJTJNo"
   },
   "source": [
    "- Haz un conjunto de todos los nombres de perdedores de partidos.\n"
   ]
  },
  {
   "cell_type": "code",
   "execution_count": null,
   "metadata": {
    "colab": {
     "base_uri": "https://localhost:8080/"
    },
    "id": "Uw_3hOHbS9Ny",
    "outputId": "59d73f4e-8b03-4e1a-cd30-db64be1faafe"
   },
   "outputs": [
    {
     "data": {
      "text/plain": [
       "883"
      ]
     },
     "execution_count": 10,
     "metadata": {},
     "output_type": "execute_result"
    }
   ],
   "source": [
    "perdedores = {partido[\"loser_name\"] for partido in partidos }\n",
    "len(perdedores)"
   ]
  },
  {
   "cell_type": "markdown",
   "metadata": {
    "id": "z7g0YjDiTO58"
   },
   "source": [
    "- Enlista qué jugadores no han perdido ningún partido. "
   ]
  },
  {
   "cell_type": "code",
   "execution_count": null,
   "metadata": {
    "colab": {
     "base_uri": "https://localhost:8080/"
    },
    "id": "vzmMVBJWTRBQ",
    "outputId": "6c024c5d-94b2-4a7d-d9ec-1e5fdd469d2b"
   },
   "outputs": [
    {
     "data": {
      "text/plain": [
       "{'Alexander Bury',\n",
       " 'Aljaz Radinski',\n",
       " 'Andre Gaspar Murta',\n",
       " 'Ayoub Chakrouni',\n",
       " 'Bassam Beidas',\n",
       " 'Bruno Rodriguez',\n",
       " 'Christian Sigsgaard',\n",
       " 'Daniel Llarenas',\n",
       " 'Enrique Olivares',\n",
       " 'Grzegorz Panfil',\n",
       " 'Hamid Reza Nadaf',\n",
       " 'Hans Podlipnik Castillo',\n",
       " 'Ignacio Garcia',\n",
       " 'Jean Jacques Rakotohasy',\n",
       " 'Jirat Navasirisomboon',\n",
       " 'Joao Domingues',\n",
       " 'Jose Benitez',\n",
       " 'Juan Carlos Saez',\n",
       " 'Karan Rastogi',\n",
       " 'Kevin Kung',\n",
       " 'Kuan Yi Lee',\n",
       " 'Linh Giang Trinh',\n",
       " 'Mantas Bugailiskis',\n",
       " 'Manuel Sanchez',\n",
       " 'Marat Deviatiarov',\n",
       " 'Marcelo Tomas Barrios Vera',\n",
       " 'Matwe Middelkoop',\n",
       " 'Mazen Osama',\n",
       " 'Nicolas Alvarez',\n",
       " 'Nicolas Xiviller',\n",
       " 'Nutthanon Kadchapanan',\n",
       " 'Patrick Chucri',\n",
       " 'Rogelio Siller',\n",
       " 'Simen Sunde Bratholm',\n",
       " 'Thomas Schoorel',\n",
       " 'Tihomir Grozdanov'}"
      ]
     },
     "execution_count": 12,
     "metadata": {},
     "output_type": "execute_result"
    }
   ],
   "source": [
    "ganado_sin_perder = ganadores - perdedores #sólo se puede hacer con conjuntos\n",
    "ganado_sin_perder"
   ]
  },
  {
   "cell_type": "markdown",
   "metadata": {
    "id": "JzO4SdAYTUjv"
   },
   "source": [
    "- ¿Cuántos jugadores no han perdido ningún partido?\n"
   ]
  },
  {
   "cell_type": "code",
   "execution_count": null,
   "metadata": {
    "colab": {
     "base_uri": "https://localhost:8080/",
     "height": 34
    },
    "id": "EK-hgq20TOV1",
    "outputId": "f0590978-7cf9-4e66-e770-e8298b9f5e4c"
   },
   "outputs": [
    {
     "data": {
      "text/plain": [
       "36"
      ]
     },
     "execution_count": 24,
     "metadata": {
      "tags": []
     },
     "output_type": "execute_result"
    }
   ],
   "source": [
    "len(ganado_sin_perder)"
   ]
  },
  {
   "cell_type": "markdown",
   "metadata": {
    "id": "kCDeltsgTgN-"
   },
   "source": [
    "- Enlista qué jugadores no han ganado ningún partido."
   ]
  },
  {
   "cell_type": "code",
   "execution_count": null,
   "metadata": {
    "id": "4NM_CZ15T0Gg"
   },
   "outputs": [],
   "source": [
    "perdido_sin_ganar = perdedores- ganadores\n"
   ]
  },
  {
   "cell_type": "markdown",
   "metadata": {
    "id": "SJlghWnjT3lQ"
   },
   "source": [
    "- ¿Cuántos jugadores no han ganado ningún partido?"
   ]
  },
  {
   "cell_type": "code",
   "execution_count": null,
   "metadata": {
    "colab": {
     "base_uri": "https://localhost:8080/",
     "height": 34
    },
    "id": "n-t9V2roT6-f",
    "outputId": "0fc2b7fe-7157-44c5-be05-079ee3e8e8b0"
   },
   "outputs": [
    {
     "data": {
      "text/plain": [
       "321"
      ]
     },
     "execution_count": 32,
     "metadata": {
      "tags": []
     },
     "output_type": "execute_result"
    }
   ],
   "source": [
    "len(perdido_sin_ganar)"
   ]
  },
  {
   "cell_type": "markdown",
   "metadata": {
    "id": "OdNB-XhIVnqR"
   },
   "source": [
    "- Haz una lista diciendo cuántos partidos ha ganado cada jugador."
   ]
  },
  {
   "cell_type": "code",
   "execution_count": null,
   "metadata": {
    "colab": {
     "base_uri": "https://localhost:8080/"
    },
    "id": "iQsh-8efUBiF",
    "outputId": "db6afc9f-6744-43d4-f51b-e4cd1beff9e3"
   },
   "outputs": [
    {
     "data": {
      "text/plain": [
       "[('Mardy Fish', 27),\n",
       " ('Ricardas Berankis', 58),\n",
       " ('Xavier Malisse', 34),\n",
       " ('Jeremy Chardy', 126),\n",
       " ('Tommy Haas', 94),\n",
       " ('Leonardo Mayer', 95),\n",
       " ('Marinko Matosevic', 61),\n",
       " ('Tobias Kamke', 39),\n",
       " ('Sam Querrey', 144),\n",
       " ('Benjamin Becker', 66)]"
      ]
     },
     "execution_count": 17,
     "metadata": {},
     "output_type": "execute_result"
    }
   ],
   "source": [
    "from collections import Counter\n",
    "\n",
    "ganadores = [ partido[\"winner_name\"] for partido in partidos ]\n",
    "cuenta=Counter(ganadores)\n",
    "lista_ganadores = [ (jugador, cuenta[jugador]) for jugador in cuenta]\n",
    "lista_ganadores[:10]\n",
    "\n"
   ]
  },
  {
   "cell_type": "markdown",
   "metadata": {
    "id": "IWNKt6JbVxYG"
   },
   "source": [
    "- Haz una lista diciendo cuántos partidos ha perdido cada jugador"
   ]
  },
  {
   "cell_type": "code",
   "execution_count": null,
   "metadata": {
    "colab": {
     "base_uri": "https://localhost:8080/",
     "height": 189
    },
    "id": "ptQPlWTpVsKK",
    "outputId": "a7177779-ab86-468d-c43a-b2fa7f023803"
   },
   "outputs": [
    {
     "data": {
      "text/plain": [
       "[{'nombre': 'Bjorn Phau', 'perdidos': 22},\n",
       " {'nombre': 'Nicolas Mahut', 'perdidos': 82},\n",
       " {'nombre': 'Paul Henri Mathieu', 'perdidos': 87},\n",
       " {'nombre': 'Edouard Roger Vasselin', 'perdidos': 88},\n",
       " {'nombre': 'Michael Russell', 'perdidos': 38},\n",
       " {'nombre': 'Guillermo Garcia Lopez', 'perdidos': 132},\n",
       " {'nombre': 'Jesse Levine', 'perdidos': 29},\n",
       " {'nombre': 'Benoit Paire', 'perdidos': 127},\n",
       " {'nombre': 'Igor Andreev', 'perdidos': 18},\n",
       " {'nombre': 'Steve Johnson', 'perdidos': 94}]"
      ]
     },
     "execution_count": 47,
     "metadata": {
      "tags": []
     },
     "output_type": "execute_result"
    }
   ],
   "source": [
    "from collections import Counter\n",
    "perdedores = [partido[\"loser_name\"] for partido in partidos]\n",
    "cuenta_perdidos = Counter(perdedores)\n",
    "lista_perdidos = [ {\"nombre\":jugador, \"perdidos\":cuenta_perdidos[jugador]} for jugador in cuenta_perdidos]\n",
    "lista_perdidos[:10]\n",
    "\n"
   ]
  },
  {
   "cell_type": "markdown",
   "metadata": {
    "id": "QE6j2askV1P1"
   },
   "source": [
    "- Obtén el jugador con más partidos ganados."
   ]
  },
  {
   "cell_type": "code",
   "execution_count": null,
   "metadata": {
    "colab": {
     "base_uri": "https://localhost:8080/",
     "height": 51
    },
    "id": "KfJ_GfGjVv6w",
    "outputId": "a3110932-5a11-4aca-b005-1554f0ad6318"
   },
   "outputs": [
    {
     "name": "stdout",
     "output_type": "stream",
     "text": [
      "('Novak Djokovic', 370)\n",
      "('Novak Djokovic', 370)\n"
     ]
    }
   ],
   "source": [
    "# función de ordenamiento\n",
    "def ganados(jugador):\n",
    "    return jugador[1]\n",
    "\n",
    "print( sorted(lista_ganadores, key=ganados, reverse=True)[0] )\n",
    "print( cuenta.most_common()[0] )\n",
    "    "
   ]
  },
  {
   "cell_type": "markdown",
   "metadata": {
    "id": "Es8nGDBiWR1W"
   },
   "source": [
    "- Obtén el jugador con más partidos perdidos"
   ]
  },
  {
   "cell_type": "code",
   "execution_count": null,
   "metadata": {
    "colab": {
     "base_uri": "https://localhost:8080/",
     "height": 34
    },
    "id": "VfEfyic5WVC3",
    "outputId": "4088d4a2-27ba-4484-f591-52582455948a"
   },
   "outputs": [
    {
     "name": "stdout",
     "output_type": "stream",
     "text": [
      "{'nombre': 'Andreas Seppi', 'perdidos': 137}\n"
     ]
    }
   ],
   "source": [
    "# función de ordenamiento\n",
    "def perdidos(jugador):\n",
    "    return jugador[\"perdidos\"]\n",
    "\n",
    "print( sorted(lista_perdidos, key=perdidos, reverse=True)[0] )\n",
    "\n",
    "    "
   ]
  },
  {
   "cell_type": "markdown",
   "metadata": {
    "id": "OlpdUo7sX080"
   },
   "source": [
    "- Obtén todos los jugadores que hayan llegado a semifinales"
   ]
  },
  {
   "cell_type": "code",
   "execution_count": null,
   "metadata": {
    "colab": {
     "base_uri": "https://localhost:8080/"
    },
    "id": "NHllRgy7X5i2",
    "outputId": "77b857da-592b-4f44-e75b-752a9ad9c334"
   },
   "outputs": [
    {
     "data": {
      "text/plain": [
       "{'BR', 'F', None, 'QF', 'R128', 'R16', 'R32', 'R64', 'RR', 'SF'}"
      ]
     },
     "execution_count": 21,
     "metadata": {},
     "output_type": "execute_result"
    }
   ],
   "source": [
    "#categoría round, valor \"SF\"\n",
    "\n",
    "{ partido.get(\"winner_name\") for partido in partidos if partido.get(\"round\")==\"SF\"}\n",
    "\n",
    "semifinalistas_ganadores= { partido[\"winner_name\"] for partido in partidos if partido.get(\"round\")==\"SF\" }\n",
    "semifinalistas_perdedores= { partido[\"loser_name\"] for partido in partidos if partido.get(\"round\")==\"SF\" }\n",
    "semifinalistas = semifinalistas_ganadores | semifinalistas_perdedores #unión de conjuntos\n",
    "\n"
   ]
  },
  {
   "cell_type": "markdown",
   "metadata": {
    "id": "dXNj3tlJX-QY"
   },
   "source": [
    "- Obtén todos los jugadores que hayan ganado una final."
   ]
  },
  {
   "cell_type": "code",
   "execution_count": null,
   "metadata": {
    "colab": {
     "base_uri": "https://localhost:8080/",
     "height": 1000
    },
    "id": "OiHThCotX73y",
    "outputId": "824a1c90-c73f-40f5-b1b7-87799885fc98"
   },
   "outputs": [
    {
     "data": {
      "text/plain": [
       "{'Albert Montanes',\n",
       " 'Albert Ramos',\n",
       " 'Alexander Zverev',\n",
       " 'Alexandr Dolgopolov',\n",
       " 'Andreas Seppi',\n",
       " 'Andy Murray',\n",
       " 'Andy Roddick',\n",
       " 'Benoit Paire',\n",
       " 'Bernard Tomic',\n",
       " 'Carlos Berlocq',\n",
       " 'David Ferrer',\n",
       " 'David Goffin',\n",
       " 'Denis Istomin',\n",
       " 'Diego Sebastian Schwartzman',\n",
       " 'Dominic Thiem',\n",
       " 'Ernests Gulbis',\n",
       " 'Fabio Fognini',\n",
       " 'Federico Delbonis',\n",
       " 'Feliciano Lopez',\n",
       " 'Fernando Verdasco',\n",
       " 'Filippo Volandri',\n",
       " 'Florian Mayer',\n",
       " 'Gael Monfils',\n",
       " 'Gilles Muller',\n",
       " 'Gilles Simon',\n",
       " 'Grigor Dimitrov',\n",
       " 'Guido Pella',\n",
       " 'Guillermo Garcia Lopez',\n",
       " 'Horacio Zeballos',\n",
       " 'Inigo Cervantes Huegun',\n",
       " 'Ivo Karlovic',\n",
       " 'Jack Sock',\n",
       " 'Janko Tipsarevic',\n",
       " 'Jarkko Nieminen',\n",
       " 'Jiri Vesely',\n",
       " 'Jo Wilfried Tsonga',\n",
       " 'Joao Sousa',\n",
       " 'John Isner',\n",
       " 'Juan Martin Del Potro',\n",
       " 'Juan Monaco',\n",
       " 'Jurgen Melzer',\n",
       " 'Karen Khachanov',\n",
       " 'Kei Nishikori',\n",
       " 'Kevin Anderson',\n",
       " 'Leonardo Mayer',\n",
       " 'Lleyton Hewitt',\n",
       " 'Lucas Pouille',\n",
       " 'Lukas Rosol',\n",
       " 'Marcel Granollers',\n",
       " 'Marin Cilic',\n",
       " 'Martin Klizan',\n",
       " 'Mikhail Youzhny',\n",
       " 'Milos Raonic',\n",
       " 'Nick Kyrgios',\n",
       " 'Nicolas Almagro',\n",
       " 'Nicolas Mahut',\n",
       " 'Novak Djokovic',\n",
       " 'Pablo Andujar',\n",
       " 'Pablo Carreno Busta',\n",
       " 'Pablo Cuevas',\n",
       " 'Paolo Lorenzi',\n",
       " 'Philipp Kohlschreiber',\n",
       " 'Rafael Nadal',\n",
       " 'Rajeev Ram',\n",
       " 'Richard Gasquet',\n",
       " 'Roberto Bautista Agut',\n",
       " 'Robin Haase',\n",
       " 'Roger Federer',\n",
       " 'Sam Querrey',\n",
       " 'Stanislas Wawrinka',\n",
       " 'Steve Johnson',\n",
       " 'Thomaz Bellucci',\n",
       " 'Tomas Berdych',\n",
       " 'Tommy Haas',\n",
       " 'Tommy Robredo',\n",
       " 'Victor Estrella',\n",
       " 'Viktor Troicki'}"
      ]
     },
     "execution_count": 57,
     "metadata": {
      "tags": []
     },
     "output_type": "execute_result"
    }
   ],
   "source": [
    "campeones= { partido[\"winner_name\"] for partido in partidos if partido.get(\"round\")==\"F\" }\n",
    "campeones"
   ]
  },
  {
   "cell_type": "markdown",
   "metadata": {
    "id": "kicfyiVeYLNC"
   },
   "source": [
    "-"
   ]
  },
  {
   "cell_type": "markdown",
   "metadata": {
    "id": "jPi8L2zQWfEP"
   },
   "source": [
    "# Ordenamiento\n",
    "- Obtén los 10 jugadores con más partidos ganados y especifica cuántos partidos ganaron."
   ]
  },
  {
   "cell_type": "code",
   "execution_count": null,
   "metadata": {
    "colab": {
     "base_uri": "https://localhost:8080/",
     "height": 189
    },
    "id": "0pafH548W3Me",
    "outputId": "f92e13c8-944d-4a4b-8422-82403b439338"
   },
   "outputs": [
    {
     "data": {
      "text/plain": [
       "[('Novak Djokovic', 370),\n",
       " ('Andy Murray', 320),\n",
       " ('David Ferrer', 288),\n",
       " ('Roger Federer', 284),\n",
       " ('Rafael Nadal', 276),\n",
       " ('Tomas Berdych', 273),\n",
       " ('Kei Nishikori', 246),\n",
       " ('Stanislas Wawrinka', 236),\n",
       " ('Milos Raonic', 232),\n",
       " ('Jo Wilfried Tsonga', 208)]"
      ]
     },
     "execution_count": 59,
     "metadata": {
      "tags": []
     },
     "output_type": "execute_result"
    }
   ],
   "source": [
    "from collections import Counter\n",
    "ganadores = [partido[\"winner_name\"] for partido in partidos]\n",
    "cuenta = Counter(ganadores)\n",
    "lista_ganadores = [ (jugador, cuenta[jugador]) for jugador in cuenta]\n",
    "lista_ganadores[:10]\n",
    "\n",
    "def ganados(jugador):\n",
    "    return jugador[1]\n",
    "\n",
    "\n",
    "sorted(lista_ganadores, key=ganados, reverse=True)[:10]"
   ]
  },
  {
   "cell_type": "markdown",
   "metadata": {
    "id": "bbQkb21MW6d4"
   },
   "source": [
    "- Obtén los 10 jugadores con más partidos perdidos y especifica cuántos partidos perdieron."
   ]
  },
  {
   "cell_type": "code",
   "execution_count": null,
   "metadata": {
    "colab": {
     "base_uri": "https://localhost:8080/",
     "height": 189
    },
    "id": "3vUqT7l-W4xf",
    "outputId": "8d70a8c0-8d73-4762-cf75-b3c5dbad4317"
   },
   "outputs": [
    {
     "data": {
      "text/plain": [
       "[{'nombre': 'Andreas Seppi', 'perdidos': 137},\n",
       " {'nombre': 'Denis Istomin', 'perdidos': 134},\n",
       " {'nombre': 'Guillermo Garcia Lopez', 'perdidos': 132},\n",
       " {'nombre': 'Albert Ramos', 'perdidos': 130},\n",
       " {'nombre': 'Fabio Fognini', 'perdidos': 128},\n",
       " {'nombre': 'Lukas Rosol', 'perdidos': 128},\n",
       " {'nombre': 'Benoit Paire', 'perdidos': 127},\n",
       " {'nombre': 'Philipp Kohlschreiber', 'perdidos': 127},\n",
       " {'nombre': 'Gilles Simon', 'perdidos': 126},\n",
       " {'nombre': 'Feliciano Lopez', 'perdidos': 125}]"
      ]
     },
     "execution_count": 60,
     "metadata": {
      "tags": []
     },
     "output_type": "execute_result"
    }
   ],
   "source": [
    "sorted(lista_perdidos, key=perdidos, reverse=True)[:10]"
   ]
  },
  {
   "cell_type": "markdown",
   "metadata": {
    "id": "sK7yV22jaBIi"
   },
   "source": [
    "- Obtén una lista con los tipos de canchas que existen (pasto, arcilla, etc)"
   ]
  },
  {
   "cell_type": "code",
   "execution_count": null,
   "metadata": {
    "colab": {
     "base_uri": "https://localhost:8080/",
     "height": 34
    },
    "id": "kOxmDNmwXCaL",
    "outputId": "7c9ee2e1-9d58-481e-e074-3a997af445ea"
   },
   "outputs": [
    {
     "data": {
      "text/plain": [
       "['', 'Clay', 'Hard', 'Carpet', 'Grass']"
      ]
     },
     "execution_count": 69,
     "metadata": {
      "tags": []
     },
     "output_type": "execute_result"
    }
   ],
   "source": [
    "superficies = {partido.get(\"surface\") for partido in partidos}\n",
    "superficies = list(superficies)\n",
    "superficies"
   ]
  },
  {
   "cell_type": "markdown",
   "metadata": {
    "id": "JzNp_EWhbFw-"
   },
   "source": [
    "- Para cada tipo de cancha: Obtén una lista con los tres jugadores con más finales ganadas, y la cantidad de finales ganadas."
   ]
  },
  {
   "cell_type": "code",
   "execution_count": null,
   "metadata": {
    "colab": {
     "base_uri": "https://localhost:8080/",
     "height": 224
    },
    "id": "DvARsQ8zcQnA",
    "outputId": "fb73f4e5-753d-4f50-c6f4-395550fef34a"
   },
   "outputs": [
    {
     "name": "stdout",
     "output_type": "stream",
     "text": [
      "Superficie: Clay\n",
      "[('Rafael Nadal', 17), ('David Ferrer', 6), ('Novak Djokovic', 6)]\n",
      "\n",
      "Superficie: Hard\n",
      "[('Novak Djokovic', 31), ('Andy Murray', 14), ('Roger Federer', 13)]\n",
      "\n",
      "Superficie: Carpet\n",
      "[]\n",
      "\n",
      "Superficie: Grass\n",
      "[('Andy Murray', 6), ('Roger Federer', 4), ('Nicolas Mahut', 4)]\n",
      "\n"
     ]
    }
   ],
   "source": [
    "for superficie in superficies[1:]:\n",
    "  print(f\"Superficie: {superficie}\")\n",
    "  campeones= [ partido[\"winner_name\"] for partido in partidos if partido.get(\"round\")==\"F\" and partido.get(\"surface\")==superficie ]\n",
    "  cuenta_ganados= Counter(campeones)\n",
    "  cuenta_ganados= cuenta_ganados.most_common()\n",
    "  print(cuenta_ganados[:3])\n",
    "  print()\n",
    "\n"
   ]
  },
  {
   "cell_type": "markdown",
   "metadata": {
    "id": "YFy8jn5AbOMv"
   },
   "source": [
    "# Pregunta ¿Quién fue el mejor jugador de la ATP de 2012 a 2017?"
   ]
  },
  {
   "cell_type": "code",
   "execution_count": null,
   "metadata": {
    "id": "iIygOPY7bJke"
   },
   "outputs": [],
   "source": []
  }
 ],
 "metadata": {
  "colab": {
   "collapsed_sections": [],
   "name": "Copia de ECID- Herramientas para el análisis de Datos 2022-1: Solución a los ejercicios",
   "provenance": []
  },
  "kernelspec": {
   "display_name": "Python 3",
   "language": "python",
   "name": "python3"
  },
  "language_info": {
   "codemirror_mode": {
    "name": "ipython",
    "version": 3
   },
   "file_extension": ".py",
   "mimetype": "text/x-python",
   "name": "python",
   "nbconvert_exporter": "python",
   "pygments_lexer": "ipython3",
   "version": "3.8.8"
  }
 },
 "nbformat": 4,
 "nbformat_minor": 1
}
