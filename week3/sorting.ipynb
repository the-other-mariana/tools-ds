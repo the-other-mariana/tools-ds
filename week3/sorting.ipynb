{
 "cells": [
  {
   "cell_type": "code",
   "execution_count": 1,
   "id": "2b9c975e",
   "metadata": {},
   "outputs": [],
   "source": [
    "from random import randint, choice\n",
    "\n",
    "frutas = [\"manzana\", \"pera\", \"limon\", \"sandia\", \"platano\", \"cereza\"]\n",
    "personas = [\"Ana\", \"Beto\", \"Daniela\", \"Carlos\", \"Emmanuel\", \"Felipe\", \"Gloria\"]"
   ]
  },
  {
   "cell_type": "code",
   "execution_count": 3,
   "id": "23decf62",
   "metadata": {},
   "outputs": [],
   "source": [
    "db = [ (nombre, choice(frutas), randint(1,1000), randint(1,1000), randint(1,1000)) for nombre in personas]"
   ]
  },
  {
   "cell_type": "code",
   "execution_count": 4,
   "id": "18d4217c",
   "metadata": {},
   "outputs": [
    {
     "data": {
      "text/plain": [
       "[('Ana', 'sandia', 164, 769, 121),\n",
       " ('Beto', 'pera', 685, 996, 269),\n",
       " ('Daniela', 'cereza', 6, 655, 17),\n",
       " ('Carlos', 'limon', 819, 974, 544),\n",
       " ('Emmanuel', 'platano', 811, 656, 805),\n",
       " ('Felipe', 'limon', 457, 279, 827),\n",
       " ('Gloria', 'pera', 730, 510, 203)]"
      ]
     },
     "execution_count": 4,
     "metadata": {},
     "output_type": "execute_result"
    }
   ],
   "source": [
    "db"
   ]
  },
  {
   "cell_type": "code",
   "execution_count": 5,
   "id": "90ab0bef",
   "metadata": {},
   "outputs": [],
   "source": [
    "categorias = [\"nombre\", \"fruta\", \"R1\", \"R2\", \"R3\"]"
   ]
  },
  {
   "cell_type": "code",
   "execution_count": null,
   "id": "e80e7e15",
   "metadata": {},
   "outputs": [],
   "source": []
  },
  {
   "cell_type": "code",
   "execution_count": 7,
   "id": "44d4a4ab",
   "metadata": {},
   "outputs": [
    {
     "data": {
      "text/plain": [
       "[Elemento(nombre='Ana', fruta='sandia', R1=164, R2=769, R3=121),\n",
       " Elemento(nombre='Beto', fruta='pera', R1=685, R2=996, R3=269),\n",
       " Elemento(nombre='Daniela', fruta='cereza', R1=6, R2=655, R3=17),\n",
       " Elemento(nombre='Carlos', fruta='limon', R1=819, R2=974, R3=544),\n",
       " Elemento(nombre='Emmanuel', fruta='platano', R1=811, R2=656, R3=805),\n",
       " Elemento(nombre='Felipe', fruta='limon', R1=457, R2=279, R3=827),\n",
       " Elemento(nombre='Gloria', fruta='pera', R1=730, R2=510, R3=203)]"
      ]
     },
     "execution_count": 7,
     "metadata": {},
     "output_type": "execute_result"
    }
   ],
   "source": [
    "from dataclasses import dataclass\n",
    "@dataclass # decorador\n",
    "class Elemento:\n",
    "    nombre:str\n",
    "    fruta:str\n",
    "    R1:int\n",
    "    R2:int\n",
    "    R3:int\n",
    "        \n",
    "datos = [Elemento(*d) for d in db] # *: unpackage list d in the 5 args\n",
    "datos"
   ]
  },
  {
   "cell_type": "code",
   "execution_count": 8,
   "id": "06061fce",
   "metadata": {},
   "outputs": [
    {
     "data": {
      "text/plain": [
       "[1, 4, 8, 10, 15, 20, 45]"
      ]
     },
     "execution_count": 8,
     "metadata": {},
     "output_type": "execute_result"
    }
   ],
   "source": [
    "sorted([10,15,20,1,4,45,8])"
   ]
  },
  {
   "cell_type": "code",
   "execution_count": 9,
   "id": "595866d1",
   "metadata": {},
   "outputs": [
    {
     "data": {
      "text/plain": [
       "[(2, 1), (2, 3), (5, 0), (5, 6), (8, 7)]"
      ]
     },
     "execution_count": 9,
     "metadata": {},
     "output_type": "execute_result"
    }
   ],
   "source": [
    "sorted( [ (2,3), (8,7), (5,6), (2,1), (5,0)]) # orders with all spaces from left to right"
   ]
  },
  {
   "cell_type": "code",
   "execution_count": 10,
   "id": "b23c40b9",
   "metadata": {},
   "outputs": [
    {
     "data": {
      "text/plain": [
       "[('Ana', 'sandia', 164, 769, 121),\n",
       " ('Beto', 'pera', 685, 996, 269),\n",
       " ('Carlos', 'limon', 819, 974, 544),\n",
       " ('Daniela', 'cereza', 6, 655, 17),\n",
       " ('Emmanuel', 'platano', 811, 656, 805),\n",
       " ('Felipe', 'limon', 457, 279, 827),\n",
       " ('Gloria', 'pera', 730, 510, 203)]"
      ]
     },
     "execution_count": 10,
     "metadata": {},
     "output_type": "execute_result"
    }
   ],
   "source": [
    "sorted(db)"
   ]
  },
  {
   "cell_type": "code",
   "execution_count": 12,
   "id": "ae8d5597",
   "metadata": {},
   "outputs": [
    {
     "data": {
      "text/plain": [
       "[('Daniela', 'cereza', 6, 655, 17),\n",
       " ('Ana', 'sandia', 164, 769, 121),\n",
       " ('Felipe', 'limon', 457, 279, 827),\n",
       " ('Beto', 'pera', 685, 996, 269),\n",
       " ('Gloria', 'pera', 730, 510, 203),\n",
       " ('Emmanuel', 'platano', 811, 656, 805),\n",
       " ('Carlos', 'limon', 819, 974, 544)]"
      ]
     },
     "execution_count": 12,
     "metadata": {},
     "output_type": "execute_result"
    }
   ],
   "source": [
    "def orden(lista):\n",
    "    return lista[2]\n",
    "sorted(db, key=orden)"
   ]
  },
  {
   "cell_type": "code",
   "execution_count": 13,
   "id": "4effa13f",
   "metadata": {},
   "outputs": [
    {
     "data": {
      "text/plain": [
       "[Elemento(nombre='Daniela', fruta='cereza', R1=6, R2=655, R3=17),\n",
       " Elemento(nombre='Ana', fruta='sandia', R1=164, R2=769, R3=121),\n",
       " Elemento(nombre='Felipe', fruta='limon', R1=457, R2=279, R3=827),\n",
       " Elemento(nombre='Beto', fruta='pera', R1=685, R2=996, R3=269),\n",
       " Elemento(nombre='Gloria', fruta='pera', R1=730, R2=510, R3=203),\n",
       " Elemento(nombre='Emmanuel', fruta='platano', R1=811, R2=656, R3=805),\n",
       " Elemento(nombre='Carlos', fruta='limon', R1=819, R2=974, R3=544)]"
      ]
     },
     "execution_count": 13,
     "metadata": {},
     "output_type": "execute_result"
    }
   ],
   "source": [
    "def orden(elemento):\n",
    "    return elemento.R1\n",
    "sorted(datos, key=orden) # orden receives each datos elem"
   ]
  },
  {
   "cell_type": "code",
   "execution_count": 14,
   "id": "b6ad5c35",
   "metadata": {},
   "outputs": [
    {
     "data": {
      "text/plain": [
       "[Elemento(nombre='Daniela', fruta='cereza', R1=6, R2=655, R3=17),\n",
       " Elemento(nombre='Ana', fruta='sandia', R1=164, R2=769, R3=121),\n",
       " Elemento(nombre='Felipe', fruta='limon', R1=457, R2=279, R3=827),\n",
       " Elemento(nombre='Beto', fruta='pera', R1=685, R2=996, R3=269),\n",
       " Elemento(nombre='Gloria', fruta='pera', R1=730, R2=510, R3=203),\n",
       " Elemento(nombre='Emmanuel', fruta='platano', R1=811, R2=656, R3=805),\n",
       " Elemento(nombre='Carlos', fruta='limon', R1=819, R2=974, R3=544)]"
      ]
     },
     "execution_count": 14,
     "metadata": {},
     "output_type": "execute_result"
    }
   ],
   "source": [
    "sorted(datos, key= lambda x: x.R1)"
   ]
  },
  {
   "cell_type": "code",
   "execution_count": 16,
   "id": "96c8cd79",
   "metadata": {},
   "outputs": [
    {
     "data": {
      "text/plain": [
       "[Elemento(nombre='Daniela', fruta='cereza', R1=6, R2=655, R3=17),\n",
       " Elemento(nombre='Felipe', fruta='limon', R1=457, R2=279, R3=827),\n",
       " Elemento(nombre='Carlos', fruta='limon', R1=819, R2=974, R3=544),\n",
       " Elemento(nombre='Beto', fruta='pera', R1=685, R2=996, R3=269),\n",
       " Elemento(nombre='Gloria', fruta='pera', R1=730, R2=510, R3=203),\n",
       " Elemento(nombre='Emmanuel', fruta='platano', R1=811, R2=656, R3=805),\n",
       " Elemento(nombre='Ana', fruta='sandia', R1=164, R2=769, R3=121)]"
      ]
     },
     "execution_count": 16,
     "metadata": {},
     "output_type": "execute_result"
    }
   ],
   "source": [
    "def orden(elem):\n",
    "    return elem.fruta, elem.R1 # define each order hierarchy\n",
    "sorted(datos, key=orden)"
   ]
  },
  {
   "cell_type": "code",
   "execution_count": 17,
   "id": "fe687cfd",
   "metadata": {},
   "outputs": [
    {
     "data": {
      "text/plain": [
       "[Elemento(nombre='Daniela', fruta='cereza', R1=6, R2=655, R3=17),\n",
       " Elemento(nombre='Felipe', fruta='limon', R1=457, R2=279, R3=827),\n",
       " Elemento(nombre='Carlos', fruta='limon', R1=819, R2=974, R3=544),\n",
       " Elemento(nombre='Beto', fruta='pera', R1=685, R2=996, R3=269),\n",
       " Elemento(nombre='Gloria', fruta='pera', R1=730, R2=510, R3=203),\n",
       " Elemento(nombre='Emmanuel', fruta='platano', R1=811, R2=656, R3=805),\n",
       " Elemento(nombre='Ana', fruta='sandia', R1=164, R2=769, R3=121)]"
      ]
     },
     "execution_count": 17,
     "metadata": {},
     "output_type": "execute_result"
    }
   ],
   "source": [
    "sorted(datos, key = lambda x: (x.fruta, x.R1))"
   ]
  },
  {
   "cell_type": "code",
   "execution_count": 18,
   "id": "f3308c50",
   "metadata": {},
   "outputs": [
    {
     "data": {
      "text/plain": [
       "[Elemento(nombre='Daniela', fruta='cereza', R1=6, R2=655, R3=17),\n",
       " Elemento(nombre='Ana', fruta='sandia', R1=164, R2=769, R3=121),\n",
       " Elemento(nombre='Gloria', fruta='pera', R1=730, R2=510, R3=203),\n",
       " Elemento(nombre='Felipe', fruta='limon', R1=457, R2=279, R3=827),\n",
       " Elemento(nombre='Beto', fruta='pera', R1=685, R2=996, R3=269),\n",
       " Elemento(nombre='Emmanuel', fruta='platano', R1=811, R2=656, R3=805),\n",
       " Elemento(nombre='Carlos', fruta='limon', R1=819, R2=974, R3=544)]"
      ]
     },
     "execution_count": 18,
     "metadata": {},
     "output_type": "execute_result"
    }
   ],
   "source": [
    "def orden(x):\n",
    "    return x.R1 + x.R2 + x.R3\n",
    "sorted(datos, key=orden)"
   ]
  },
  {
   "cell_type": "code",
   "execution_count": 19,
   "id": "54472c7c",
   "metadata": {},
   "outputs": [
    {
     "data": {
      "text/plain": [
       "[Elemento(nombre='Carlos', fruta='limon', R1=819, R2=974, R3=544),\n",
       " Elemento(nombre='Emmanuel', fruta='platano', R1=811, R2=656, R3=805),\n",
       " Elemento(nombre='Beto', fruta='pera', R1=685, R2=996, R3=269),\n",
       " Elemento(nombre='Felipe', fruta='limon', R1=457, R2=279, R3=827),\n",
       " Elemento(nombre='Gloria', fruta='pera', R1=730, R2=510, R3=203),\n",
       " Elemento(nombre='Ana', fruta='sandia', R1=164, R2=769, R3=121),\n",
       " Elemento(nombre='Daniela', fruta='cereza', R1=6, R2=655, R3=17)]"
      ]
     },
     "execution_count": 19,
     "metadata": {},
     "output_type": "execute_result"
    }
   ],
   "source": [
    "def orden(x):\n",
    "    return x.R1 + x.R2 + x.R3\n",
    "sorted(datos, key=orden, reverse=True) # sorted does not modify the original array"
   ]
  },
  {
   "cell_type": "code",
   "execution_count": 20,
   "id": "85137b0f",
   "metadata": {},
   "outputs": [
    {
     "data": {
      "text/plain": [
       "[Elemento(nombre='Carlos', fruta='limon', R1=819, R2=974, R3=544),\n",
       " Elemento(nombre='Emmanuel', fruta='platano', R1=811, R2=656, R3=805),\n",
       " Elemento(nombre='Beto', fruta='pera', R1=685, R2=996, R3=269),\n",
       " Elemento(nombre='Felipe', fruta='limon', R1=457, R2=279, R3=827),\n",
       " Elemento(nombre='Gloria', fruta='pera', R1=730, R2=510, R3=203),\n",
       " Elemento(nombre='Ana', fruta='sandia', R1=164, R2=769, R3=121),\n",
       " Elemento(nombre='Daniela', fruta='cereza', R1=6, R2=655, R3=17)]"
      ]
     },
     "execution_count": 20,
     "metadata": {},
     "output_type": "execute_result"
    }
   ],
   "source": [
    "def orden(x):\n",
    "    return x.R1 + x.R2 + x.R3\n",
    "datos2 = sorted(datos, key=orden, reverse=True)\n",
    "datos2"
   ]
  },
  {
   "cell_type": "code",
   "execution_count": null,
   "id": "a44c35bc",
   "metadata": {},
   "outputs": [],
   "source": []
  }
 ],
 "metadata": {
  "kernelspec": {
   "display_name": "Python 3",
   "language": "python",
   "name": "python3"
  },
  "language_info": {
   "codemirror_mode": {
    "name": "ipython",
    "version": 3
   },
   "file_extension": ".py",
   "mimetype": "text/x-python",
   "name": "python",
   "nbconvert_exporter": "python",
   "pygments_lexer": "ipython3",
   "version": "3.8.8"
  }
 },
 "nbformat": 4,
 "nbformat_minor": 5
}
