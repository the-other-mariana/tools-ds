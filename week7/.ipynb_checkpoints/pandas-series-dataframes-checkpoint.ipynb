{
 "cells": [
  {
   "cell_type": "code",
   "execution_count": 2,
   "metadata": {
    "id": "0trVEGp6FttG"
   },
   "outputs": [],
   "source": [
    "import numpy as np\n",
    "import pandas as pd\n",
    "from pandas import Series\n",
    "\n",
    "def encabezado(titulo):\n",
    "  print()\n",
    "  print(\"-\" * 50)\n",
    "  print(\"[\" + titulo + \"]\")\n",
    "  print(\"-\" * 50)"
   ]
  },
  {
   "cell_type": "markdown",
   "metadata": {
    "id": "NyGKK3rc974Z"
   },
   "source": [
    "# pandas: librería para trabajar con datos\n",
    "- Procesado  \n",
    "- Extracción  \n",
    "- Manipulación\n",
    "\n",
    "### Dependencias de librerías de análisis de datos\n",
    "\n",
    "![dependencias](https://raw.githubusercontent.com/DRMiguelAR/Herramientas_Analisis/master/imagenes/dependencias_pandas.png)\n",
    "\n",
    "## Diferencias entre Pandas y Numpy  \n",
    "\n",
    "---  \n",
    "### NumPy  \n",
    "* Estructuras de datos de bajo nivel\n",
    "* Arreglos multidimensionales \n",
    "* Operaciones matemáticas avanzadas sobre arreglos \n",
    "---\n",
    "### Pandas\n",
    "* Estructuras de datos de alto nivel \n",
    "* Datos tabulares\n",
    "* Alineación de datos\n",
    "* Puede trabajar aunque haya datos faltantes\n",
    "* Hay operaciones de bases de datos como *group*, *merge* y *join*\n",
    "* Se pueden utilizar operaciones de NumPy o de SciPy sobre las estructuras de Pandas\n",
    "---  \n",
    "##### Existen dos estructuras de datos principales en pandas: las Series y los Dataframes  \n",
    "---\n"
   ]
  },
  {
   "cell_type": "markdown",
   "metadata": {
    "id": "F5RgouyhF2uT"
   },
   "source": [
    "# Series\n",
    "Estructura de datos en la que asignará a cada elemento de un arreglo lineal un índice. Es un arreglo lineal al que cada dato le dan un índice.\n",
    "\n",
    "## Generación de Series"
   ]
  },
  {
   "cell_type": "code",
   "execution_count": 32,
   "metadata": {
    "id": "pkcQRX6jMQD-"
   },
   "outputs": [
    {
     "name": "stdout",
     "output_type": "stream",
     "text": [
      "\n",
      "--------------------------------------------------\n",
      "[s1]\n",
      "--------------------------------------------------\n"
     ]
    },
    {
     "data": {
      "text/plain": [
       "0    4\n",
       "1    7\n",
       "2   -5\n",
       "3    3\n",
       "dtype: int32"
      ]
     },
     "execution_count": 32,
     "metadata": {},
     "output_type": "execute_result"
    }
   ],
   "source": [
    "# Crea una Serie de 4 números a partir de un arreglo de numpy e imprímela\n",
    "data = np.array([4,7,-5,3])\n",
    "\n",
    "encabezado(\"s1\")\n",
    "s1 = Series(data) # the index takes a lot of importance, but it's the same as an array\n",
    "s1"
   ]
  },
  {
   "cell_type": "markdown",
   "metadata": {
    "id": "MeyvzD04X8Yo"
   },
   "source": [
    "Ten en cuenta que los valores de la lista se pasan por referencia,   \n",
    "esto es, si modificas la lista se modifica la serie."
   ]
  },
  {
   "cell_type": "code",
   "execution_count": 33,
   "metadata": {
    "id": "4XJ12shIX8tu"
   },
   "outputs": [
    {
     "data": {
      "text/plain": [
       "0    100\n",
       "1      7\n",
       "2     -5\n",
       "3      3\n",
       "dtype: int32"
      ]
     },
     "execution_count": 33,
     "metadata": {},
     "output_type": "execute_result"
    }
   ],
   "source": [
    "# Modifica el valor del dato 0\n",
    "data[0] = 100\n",
    "s1"
   ]
  },
  {
   "cell_type": "markdown",
   "metadata": {
    "id": "QoQZFMChMoHA"
   },
   "source": [
    "Por default se asigna un índice numérico entero comenzando en 0.  \n",
    "Una serie está conformada por una lista de valores y una lista de índices.\n",
    "\n",
    "Puedes poner el indice que quieras para los datos (strings, números, etc)"
   ]
  },
  {
   "cell_type": "code",
   "execution_count": 36,
   "metadata": {
    "id": "UuAcUkA6MVM7"
   },
   "outputs": [
    {
     "data": {
      "text/plain": [
       "array([100,   7,  -5,   3])"
      ]
     },
     "metadata": {},
     "output_type": "display_data"
    },
    {
     "data": {
      "text/plain": [
       "RangeIndex(start=0, stop=4, step=1)"
      ]
     },
     "metadata": {},
     "output_type": "display_data"
    },
    {
     "data": {
      "text/plain": [
       "[0, 1, 2, 3]"
      ]
     },
     "metadata": {},
     "output_type": "display_data"
    }
   ],
   "source": [
    "# De la Serie definida en el punto anterior, enlista los valores y \n",
    "# los índices por separado\n",
    "display(s1.values)\n",
    "display(s1.index)\n",
    "display(list(s1.index))"
   ]
  },
  {
   "cell_type": "markdown",
   "metadata": {
    "id": "bwOj9X97NGkE"
   },
   "source": [
    "Podemos instanciar una serie agregando un índice personalizado,  \n",
    "que puede agregar más significado"
   ]
  },
  {
   "cell_type": "code",
   "execution_count": 37,
   "metadata": {
    "id": "W0dx56wfM48J"
   },
   "outputs": [
    {
     "data": {
      "text/plain": [
       "m    100\n",
       "a      7\n",
       "r     -5\n",
       "x      3\n",
       "dtype: int32"
      ]
     },
     "execution_count": 37,
     "metadata": {},
     "output_type": "execute_result"
    }
   ],
   "source": [
    "# Crea dos listas, una de datos y otra de índices,\n",
    "# donde por lo menos unos de los índices sean las \n",
    "# letras a, r, m\n",
    "# Genera una serie en donde la segunda lista sea\n",
    "# el índice\n",
    "indexes = ['m', 'a', 'r', 'x'] # these will be the indexes of every data value\n",
    "s2 = Series(data, index=indexes)\n",
    "s2"
   ]
  },
  {
   "cell_type": "markdown",
   "metadata": {
    "id": "INpQclQkNeVH"
   },
   "source": [
    "## Obtención de los elementos de una serie\n",
    "Podemos consultar la serie utilizando los índices, como si\n",
    "fueran diccionarios o arreglos de Python"
   ]
  },
  {
   "cell_type": "code",
   "execution_count": 38,
   "metadata": {
    "id": "rcluIAbHNdZ6"
   },
   "outputs": [
    {
     "data": {
      "text/plain": [
       "7"
      ]
     },
     "execution_count": 38,
     "metadata": {},
     "output_type": "execute_result"
    }
   ],
   "source": [
    "# Obtén el valor del índice a dentro de la serie anterior\n",
    "s2[\"a\"] # like a dict (index)"
   ]
  },
  {
   "cell_type": "markdown",
   "metadata": {
    "id": "RoLZ9S5_LEhR"
   },
   "source": [
    "También lo podemos consultar como arreglo de numpy"
   ]
  },
  {
   "cell_type": "code",
   "execution_count": 39,
   "metadata": {
    "id": "DdmqfFAFLEx4"
   },
   "outputs": [
    {
     "data": {
      "text/plain": [
       "100"
      ]
     },
     "execution_count": 39,
     "metadata": {},
     "output_type": "execute_result"
    }
   ],
   "source": [
    "# Obtén el valor de los índices 0 al 2\n",
    "s2[0] # like an array (position)\n",
    "s2[0:2] # returns a series"
   ]
  },
  {
   "cell_type": "markdown",
   "metadata": {
    "id": "OQq6o4XLNugy"
   },
   "source": [
    "Además, se pueden filtrar los datos pasando como búsqueda una lista de índices"
   ]
  },
  {
   "cell_type": "code",
   "execution_count": 47,
   "metadata": {
    "id": "D0KqlxEPNUhv"
   },
   "outputs": [
    {
     "data": {
      "text/plain": [
       "a      7\n",
       "r     -5\n",
       "m    100\n",
       "dtype: int32"
      ]
     },
     "metadata": {},
     "output_type": "display_data"
    },
    {
     "data": {
      "text/plain": [
       "r   -5\n",
       "x    3\n",
       "dtype: int32"
      ]
     },
     "metadata": {},
     "output_type": "display_data"
    },
    {
     "data": {
      "text/plain": [
       "m    100\n",
       "a      7\n",
       "r     -5\n",
       "dtype: int32"
      ]
     },
     "metadata": {},
     "output_type": "display_data"
    },
    {
     "data": {
      "text/plain": [
       "a    7\n",
       "dtype: int32"
      ]
     },
     "metadata": {},
     "output_type": "display_data"
    }
   ],
   "source": [
    "# A partir de la anterior serie, obtén una serie con los \n",
    "# índices a, r, m\n",
    "# you can send series (any data structure) inside of [] as a filter of a series\n",
    "# returns a series always\n",
    "display(s2[['a', 'r', 'm']])\n",
    "display(s2[[False, False, True, True]])\n",
    "display(s2[list('mar')])\n",
    "display(s2[['a']])"
   ]
  },
  {
   "cell_type": "markdown",
   "metadata": {
    "id": "VkIPOHv6TS-8"
   },
   "source": [
    "## Asignación de valores a los elementos\n",
    "Una Serie es modificable, lo que significa que puedo cambiar los valores de  \n",
    "sus datos"
   ]
  },
  {
   "cell_type": "code",
   "execution_count": 44,
   "metadata": {
    "id": "CCNXURvTT4vK"
   },
   "outputs": [
    {
     "data": {
      "text/plain": [
       "a    0\n",
       "b   -3\n",
       "c    0\n",
       "d    1\n",
       "e   -2\n",
       "f    2\n",
       "g   -3\n",
       "h   -2\n",
       "i    2\n",
       "j   -3\n",
       "dtype: int32"
      ]
     },
     "execution_count": 44,
     "metadata": {},
     "output_type": "execute_result"
    }
   ],
   "source": [
    "np.random.seed(1000)\n",
    "values= np.random.randint(-3,3,10)\n",
    "indices= list(\"abcdefghij\")\n",
    "s3= Series(values, index= indices)\n",
    "s3"
   ]
  },
  {
   "cell_type": "code",
   "execution_count": 45,
   "metadata": {
    "id": "DgCJ_y_xXKtH"
   },
   "outputs": [
    {
     "data": {
      "text/plain": [
       "a    -3\n",
       "b   -10\n",
       "c     0\n",
       "d     1\n",
       "e    -2\n",
       "f     2\n",
       "g    -3\n",
       "h    -2\n",
       "i     2\n",
       "j    -3\n",
       "dtype: int32"
      ]
     },
     "execution_count": 45,
     "metadata": {},
     "output_type": "execute_result"
    }
   ],
   "source": [
    "# Cambia el valor del índice \"b\" a -10\n",
    "# Cambia el primer valor a -3\n",
    "s3['b'] = -10\n",
    "s3[0] = -3\n",
    "s3"
   ]
  },
  {
   "cell_type": "markdown",
   "metadata": {
    "id": "JitPhG13aNx1"
   },
   "source": [
    "## Operaciones matemáticas sobre series\n",
    "Al estar basada en numpy, pandas permite realizar operaciones matemáticas sobre las series."
   ]
  },
  {
   "cell_type": "code",
   "execution_count": 48,
   "metadata": {
    "id": "6D4iBaCPN3_O"
   },
   "outputs": [
    {
     "data": {
      "text/plain": [
       "a    -6\n",
       "b   -20\n",
       "c     0\n",
       "d     2\n",
       "e    -4\n",
       "f     4\n",
       "g    -6\n",
       "h    -4\n",
       "i     4\n",
       "j    -6\n",
       "dtype: int32"
      ]
     },
     "execution_count": 48,
     "metadata": {},
     "output_type": "execute_result"
    }
   ],
   "source": [
    "# Multiplica la serie anterior por dos\n",
    "s3*2"
   ]
  },
  {
   "cell_type": "code",
   "execution_count": 54,
   "metadata": {
    "id": "zZLqLAnmOA5F"
   },
   "outputs": [
    {
     "data": {
      "text/plain": [
       "[<matplotlib.lines.Line2D at 0x1e9322e8a30>]"
      ]
     },
     "execution_count": 54,
     "metadata": {},
     "output_type": "execute_result"
    },
    {
     "data": {
      "image/png": "[encoded data removed]",
      "text/plain": [
       "<Figure size 432x288 with 1 Axes>"
      ]
     },
     "metadata": {
      "needs_background": "light"
     },
     "output_type": "display_data"
    }
   ],
   "source": [
    "# Genera una serie con once valores entre cero y 2pi\n",
    "# Genera una nueva serie con los valores del seno de la serie anterior\n",
    "# Grafica\n",
    "import matplotlib.pyplot as plt\n",
    "n = 20\n",
    "values = np.linspace(0, 2*np.pi, n + 1)\n",
    "# r string: used for latex\n",
    "indices = [r\"$\\frac{\"+  str(i) + \"\\pi}{20}$\" for i in range(n + 1)]\n",
    "s4 = Series(np.sin(values), index=indices) # directly puts the index as xlabels instead of 0 to 20 nums\n",
    "plt.plot(s4)"
   ]
  },
  {
   "cell_type": "markdown",
   "metadata": {
    "id": "_SoXv1-dWXMC"
   },
   "source": [
    "### Filtros estilo numpy\n",
    "Se puede utilizar un filtro donde se aplique la misma serie."
   ]
  },
  {
   "cell_type": "code",
   "execution_count": 57,
   "metadata": {
    "id": "p-3E6C39OF5F"
   },
   "outputs": [
    {
     "data": {
      "text/plain": [
       "a    False\n",
       "b    False\n",
       "c    False\n",
       "d     True\n",
       "e    False\n",
       "f     True\n",
       "g    False\n",
       "h    False\n",
       "i     True\n",
       "j    False\n",
       "dtype: bool"
      ]
     },
     "metadata": {},
     "output_type": "display_data"
    },
    {
     "data": {
      "text/plain": [
       "d    1\n",
       "f    2\n",
       "i    2\n",
       "dtype: int32"
      ]
     },
     "metadata": {},
     "output_type": "display_data"
    }
   ],
   "source": [
    "# Filtra de la serie 3, los valores mayores a 0\n",
    "display(s3 > 0) # applies this operator to each element, returns a series\n",
    "# you can send a series (data structure) inside []\n",
    "display(s3[s3 > 0])"
   ]
  },
  {
   "cell_type": "markdown",
   "metadata": {
    "id": "Ksws8LKIOUGf"
   },
   "source": [
    "Se puede considerar una serie de pandas como un diccionario de python, por lo \n",
    "que acepta los mismos operadores.  \n",
    "Estos operadores trabajan sobre los índices."
   ]
  },
  {
   "cell_type": "code",
   "execution_count": 58,
   "metadata": {
    "id": "sbsi3RKjON57"
   },
   "outputs": [
    {
     "data": {
      "text/plain": [
       "False"
      ]
     },
     "metadata": {},
     "output_type": "display_data"
    },
    {
     "data": {
      "text/plain": [
       "True"
      ]
     },
     "metadata": {},
     "output_type": "display_data"
    }
   ],
   "source": [
    "# Revisa si la x es parte de los índices serie 3\n",
    "# Revisa si la g es parte de los índices serie 3\n",
    "display(\"x\" in s3)\n",
    "display(\"g\" in s3)"
   ]
  },
  {
   "cell_type": "code",
   "execution_count": 62,
   "metadata": {
    "id": "UNYKfeN8OakO"
   },
   "outputs": [
    {
     "data": {
      "text/plain": [
       "a    -3\n",
       "b   -10\n",
       "c     0\n",
       "d     1\n",
       "e    -2\n",
       "f     2\n",
       "g    -3\n",
       "h    -2\n",
       "i     2\n",
       "j    -3\n",
       "dtype: int32"
      ]
     },
     "metadata": {},
     "output_type": "display_data"
    },
    {
     "data": {
      "text/plain": [
       "False"
      ]
     },
     "metadata": {},
     "output_type": "display_data"
    },
    {
     "data": {
      "text/plain": [
       "True"
      ]
     },
     "metadata": {},
     "output_type": "display_data"
    }
   ],
   "source": [
    "# Revisa si el 2 es parte de los índices de la serie 3\n",
    "# looks inside the indices not the values\n",
    "display(s3)\n",
    "display(2 in s3)\n",
    "display(\"g\" in s3)"
   ]
  },
  {
   "cell_type": "code",
   "execution_count": 17,
   "metadata": {
    "id": "Crl9y9JZOb0h"
   },
   "outputs": [
    {
     "data": {
      "text/plain": [
       "{'Jalisco': 8348,\n",
       " 'Colima': 731,\n",
       " 'Aguascalientes': 1425,\n",
       " 'Michoacán': 4748,\n",
       " 'Zacatecas': 1622,\n",
       " 'Nayarit': 1235}"
      ]
     },
     "metadata": {},
     "output_type": "display_data"
    }
   ],
   "source": [
    "d = {\"Jalisco\": 8348, \"Colima\":731, \"Aguascalientes\":1425, \"Michoacán\":4748, \"Zacatecas\":1622, \"Nayarit\":1235}\n",
    "display(d)\n",
    "# Genera una serie a partir del siguiente diccionario\n",
    "# Población en miles de estados colindantes a Jalisco (2020)\n"
   ]
  },
  {
   "cell_type": "code",
   "execution_count": 68,
   "metadata": {
    "id": "jaSrAAL9O9W7"
   },
   "outputs": [
    {
     "data": {
      "text/plain": [
       "Jalisco           8348\n",
       "Colima             731\n",
       "Aguascalientes    1425\n",
       "Michoacán         4748\n",
       "Zacatecas         1622\n",
       "Nayarit           1235\n",
       "dtype: int64"
      ]
     },
     "metadata": {},
     "output_type": "display_data"
    },
    {
     "data": {
      "text/plain": [
       "Sinaloa          NaN\n",
       "Jalisco       8348.0\n",
       "Colima         731.0\n",
       "Michoacán     4748.0\n",
       "Zacatecas     1622.0\n",
       "Nayarit       1235.0\n",
       "Tamaulipas       NaN\n",
       "dtype: float64"
      ]
     },
     "metadata": {},
     "output_type": "display_data"
    }
   ],
   "source": [
    "# Al utilizar un diccionario para generar una serie, \n",
    "# se puede especificar cuáles son los índices que se deben utilizar\n",
    "s6 = Series(d)\n",
    "display(s6)\n",
    "\n",
    "indices = [\"Sinaloa\", \"Jalisco\", \"Colima\", \"Michoacán\", \"Zacatecas\", \"Nayarit\", \"Tamaulipas\"] \n",
    "# the ones that are inside the dict, get their values\n",
    "s7 = Series(d, index=indices)\n",
    "display(s7)"
   ]
  },
  {
   "cell_type": "markdown",
   "metadata": {
    "id": "vBjZwo94PtBU"
   },
   "source": [
    "## Validación de los valores\n",
    "Si algún dato de nuestra serie es nulo, podemos detectar datos inválidos con las funciones __isnull__ o __notnull__"
   ]
  },
  {
   "cell_type": "code",
   "execution_count": 69,
   "metadata": {
    "id": "u8F79nzEPcY8"
   },
   "outputs": [
    {
     "data": {
      "text/plain": [
       "Sinaloa        True\n",
       "Jalisco       False\n",
       "Colima        False\n",
       "Michoacán     False\n",
       "Zacatecas     False\n",
       "Nayarit       False\n",
       "Tamaulipas     True\n",
       "dtype: bool"
      ]
     },
     "execution_count": 69,
     "metadata": {},
     "output_type": "execute_result"
    }
   ],
   "source": [
    "# Muestra cuáles de los elementos de la serie anterior son nulos\n",
    "# returns a list of bools\n",
    "s7.isnull()"
   ]
  },
  {
   "cell_type": "code",
   "execution_count": 71,
   "metadata": {
    "id": "Q20Ofv1WP02N"
   },
   "outputs": [
    {
     "data": {
      "text/plain": [
       "Sinaloa       False\n",
       "Jalisco        True\n",
       "Colima         True\n",
       "Michoacán      True\n",
       "Zacatecas      True\n",
       "Nayarit        True\n",
       "Tamaulipas    False\n",
       "dtype: bool"
      ]
     },
     "metadata": {},
     "output_type": "display_data"
    }
   ],
   "source": [
    "# Muestra cuáles de los elementos de la serie anterior no son nulos\n",
    "display(s7.notnull())\n"
   ]
  },
  {
   "cell_type": "code",
   "execution_count": 72,
   "metadata": {
    "id": "NCzk0bt7P7Ed"
   },
   "outputs": [
    {
     "data": {
      "text/plain": [
       "Jalisco      8348.0\n",
       "Colima        731.0\n",
       "Michoacán    4748.0\n",
       "Zacatecas    1622.0\n",
       "Nayarit      1235.0\n",
       "dtype: float64"
      ]
     },
     "execution_count": 72,
     "metadata": {},
     "output_type": "execute_result"
    }
   ],
   "source": [
    "# Filtra los elementos nulos de la serie anterior con un filtro tipo numpy\n",
    "s7[s7.notnull()]"
   ]
  },
  {
   "cell_type": "markdown",
   "metadata": {
    "id": "Vt1DzxoqcvSW"
   },
   "source": [
    "También podemos revisar qué valores hay en la serie con las funciones:  \n",
    "- __isin__: revisa para cada valor si pertenece a una estructura\n",
    "- __unique__: regresa todos los valores que pertenecen a la serie, sin repetidos\n",
    "- __value_counts__: regresa todos los valores que pertenecen a la serie, y cuántas veces aparecen"
   ]
  },
  {
   "cell_type": "code",
   "execution_count": 76,
   "metadata": {
    "id": "X-VOtmTddQ84"
   },
   "outputs": [
    {
     "data": {
      "text/plain": [
       "a    -3\n",
       "b   -10\n",
       "c     0\n",
       "d     1\n",
       "e    -2\n",
       "f     2\n",
       "g    -3\n",
       "h    -2\n",
       "i     2\n",
       "j    -3\n",
       "dtype: int32"
      ]
     },
     "metadata": {},
     "output_type": "display_data"
    },
    {
     "data": {
      "text/plain": [
       "a     True\n",
       "b    False\n",
       "c     True\n",
       "d    False\n",
       "e    False\n",
       "f    False\n",
       "g     True\n",
       "h    False\n",
       "i    False\n",
       "j     True\n",
       "dtype: bool"
      ]
     },
     "metadata": {},
     "output_type": "display_data"
    },
    {
     "data": {
      "text/plain": [
       "a   -3\n",
       "c    0\n",
       "g   -3\n",
       "j   -3\n",
       "dtype: int32"
      ]
     },
     "metadata": {},
     "output_type": "display_data"
    }
   ],
   "source": [
    "# utiliza isin para mostrar qué valores están entre -3 y 0\n",
    "display(s3)\n",
    "display(s3.isin([-3, 0])) # how many of those vals are either -3 or 0\n",
    "display(s3[s3.isin([-3, 0])])"
   ]
  },
  {
   "cell_type": "code",
   "execution_count": 77,
   "metadata": {
    "id": "YbYtWM-Yd4Kd"
   },
   "outputs": [
    {
     "data": {
      "text/plain": [
       "array([ -3, -10,   0,   1,  -2,   2])"
      ]
     },
     "execution_count": 77,
     "metadata": {},
     "output_type": "execute_result"
    }
   ],
   "source": [
    "# utiliza unique sobre s3\n",
    "s3.unique() # returns all unique values"
   ]
  },
  {
   "cell_type": "markdown",
   "metadata": {
    "id": "yBl29_vCQQX5"
   },
   "source": [
    "Se pueden aplicar operaciones automáticamente sobre dos series alineando los datos utilizando el índice"
   ]
  },
  {
   "cell_type": "code",
   "execution_count": 78,
   "metadata": {
    "id": "0v_odtAHd8of"
   },
   "outputs": [
    {
     "data": {
      "text/plain": [
       "-3     3\n",
       " 2     2\n",
       "-2     2\n",
       " 0     1\n",
       " 1     1\n",
       "-10    1\n",
       "dtype: int64"
      ]
     },
     "execution_count": 78,
     "metadata": {},
     "output_type": "execute_result"
    }
   ],
   "source": [
    "# utiliza value_counts sobre s3\n",
    "s3.value_counts() # returns a series with values as indexes and counts as value"
   ]
  },
  {
   "cell_type": "code",
   "execution_count": 81,
   "metadata": {},
   "outputs": [
    {
     "data": {
      "text/plain": [
       "a   -3\n",
       "e   -2\n",
       "f    2\n",
       "g   -3\n",
       "h   -2\n",
       "i    2\n",
       "j   -3\n",
       "dtype: int32"
      ]
     },
     "execution_count": 81,
     "metadata": {},
     "output_type": "execute_result"
    }
   ],
   "source": [
    "# filtra de s3 solo los valores que aparecen 2 o mas veces\n",
    "filtro = s3.value_counts()[s3.value_counts() >= 2]\n",
    "# which ones are more than 2 times\n",
    "s3[s3.isin(filtro.index)]"
   ]
  },
  {
   "cell_type": "markdown",
   "metadata": {
    "id": "8N8P5e_ueI3E"
   },
   "source": [
    "## Operaciones entre Series\n",
    "Se pueden realizar operaciones aritméticas entre series.\n",
    "Al hacerlo, se utilizarán las etiquetas para alinear los datos."
   ]
  },
  {
   "cell_type": "code",
   "execution_count": 86,
   "metadata": {
    "id": "ZtxLWv6JQBPK"
   },
   "outputs": [
    {
     "data": {
      "text/plain": [
       "a    5\n",
       "u    1\n",
       "j    1\n",
       "r    1\n",
       "l    1\n",
       "d    1\n",
       "g    1\n",
       "dtype: int64"
      ]
     },
     "metadata": {},
     "output_type": "display_data"
    },
    {
     "data": {
      "text/plain": [
       "a    3\n",
       "u    1\n",
       "m    1\n",
       "l    1\n",
       "t    1\n",
       "e    1\n",
       "g    1\n",
       "dtype: int64"
      ]
     },
     "metadata": {},
     "output_type": "display_data"
    }
   ],
   "source": [
    "# Genera serie 8 y serie 9 con etiquetas en común\n",
    "s8 = Series(list(\"guadalajara\")).value_counts()\n",
    "s9 = Series(list(\"guatemala\")).value_counts()\n",
    "display(s8)\n",
    "display(s9)"
   ]
  },
  {
   "cell_type": "code",
   "execution_count": 87,
   "metadata": {
    "id": "RkpvxFVxQYEZ"
   },
   "outputs": [
    {
     "data": {
      "text/plain": [
       "a    8.0\n",
       "d    NaN\n",
       "e    NaN\n",
       "g    2.0\n",
       "j    NaN\n",
       "l    2.0\n",
       "m    NaN\n",
       "r    NaN\n",
       "t    NaN\n",
       "u    2.0\n",
       "dtype: float64"
      ]
     },
     "metadata": {},
     "output_type": "display_data"
    }
   ],
   "source": [
    "# Suma s8 con s9\n",
    "display(s8 + s9) \n",
    "# uses the indices: the ones in common are summed and the others are Nan (allows you to sum vectors of diff size)"
   ]
  },
  {
   "cell_type": "markdown",
   "metadata": {
    "id": "PaeADh9gQvcU"
   },
   "source": [
    "## Atributos de una serie\n",
    "Una serie, además de valores e índice, también tiene otros atributos: \n",
    "- value\n",
    "- index\n",
    "- name\n",
    "- dtype"
   ]
  },
  {
   "cell_type": "code",
   "execution_count": 91,
   "metadata": {
    "id": "v6n3tacvQbV7"
   },
   "outputs": [
    {
     "data": {
      "text/plain": [
       "Jalisco           8348\n",
       "Colima             731\n",
       "Aguascalientes    1425\n",
       "Michoacán         4748\n",
       "Zacatecas         1622\n",
       "Nayarit           1235\n",
       "Name: Population 2020, dtype: int64"
      ]
     },
     "metadata": {},
     "output_type": "display_data"
    },
    {
     "data": {
      "text/plain": [
       "Jalisco           8348\n",
       "Colima             731\n",
       "Aguascalientes    1425\n",
       "Michoacán         4748\n",
       "Zacatecas         1622\n",
       "Nayarit           1235\n",
       "Name: Population 2020, dtype: int64"
      ]
     },
     "metadata": {},
     "output_type": "display_data"
    }
   ],
   "source": [
    "display(s6)\n",
    "s6.name = \"Population 2020\"\n",
    "display(s6)\n",
    "# a dataframe is a series list"
   ]
  },
  {
   "cell_type": "code",
   "execution_count": null,
   "metadata": {
    "id": "3cR5SU_LQ5vu"
   },
   "outputs": [],
   "source": []
  },
  {
   "cell_type": "code",
   "execution_count": 95,
   "metadata": {
    "id": "W7y-zeGoRBI0"
   },
   "outputs": [
    {
     "data": {
      "text/plain": [
       "m    100\n",
       "a      7\n",
       "r     -5\n",
       "x      3\n",
       "dtype: int32"
      ]
     },
     "metadata": {},
     "output_type": "display_data"
    },
    {
     "data": {
      "text/plain": [
       "e    100\n",
       "a      7\n",
       "r     -5\n",
       "x      3\n",
       "dtype: int32"
      ]
     },
     "metadata": {},
     "output_type": "display_data"
    }
   ],
   "source": [
    "# Para modificar un índice en particular\n",
    "display(s2)\n",
    "obj = list(s2.index)\n",
    "obj[0] = 'e'\n",
    "s2.index = obj\n",
    "display(s2)"
   ]
  },
  {
   "cell_type": "code",
   "execution_count": 99,
   "metadata": {},
   "outputs": [
    {
     "data": {
      "text/plain": [
       "a    1\n",
       "a    2\n",
       "dtype: int64"
      ]
     },
     "metadata": {},
     "output_type": "display_data"
    },
    {
     "data": {
      "text/plain": [
       "1"
      ]
     },
     "metadata": {},
     "output_type": "display_data"
    },
    {
     "data": {
      "text/plain": [
       "2"
      ]
     },
     "metadata": {},
     "output_type": "display_data"
    }
   ],
   "source": [
    "indices = [\"a\", \"a\", \"b\", \"b\"]\n",
    "values = [1,2,3,4]\n",
    "s10 = Series(values, index=indices)\n",
    "display(s10['a']) # returns a series of all that have the same key\n",
    "display(s10['a'][0])\n",
    "display(s10['a'][1])"
   ]
  },
  {
   "cell_type": "markdown",
   "metadata": {},
   "source": [
    "### Dataframes\n",
    "\n",
    "A dataframe is a matrix: is a list of series"
   ]
  },
  {
   "cell_type": "code",
   "execution_count": 101,
   "metadata": {},
   "outputs": [
    {
     "data": {
      "text/html": [
       "<div>\n",
       "<style scoped>\n",
       "    .dataframe tbody tr th:only-of-type {\n",
       "        vertical-align: middle;\n",
       "    }\n",
       "\n",
       "    .dataframe tbody tr th {\n",
       "        vertical-align: top;\n",
       "    }\n",
       "\n",
       "    .dataframe thead th {\n",
       "        text-align: right;\n",
       "    }\n",
       "</style>\n",
       "<table border=\"1\" class=\"dataframe\">\n",
       "  <thead>\n",
       "    <tr style=\"text-align: right;\">\n",
       "      <th></th>\n",
       "      <th>state</th>\n",
       "      <th>year</th>\n",
       "      <th>population</th>\n",
       "    </tr>\n",
       "  </thead>\n",
       "  <tbody>\n",
       "    <tr>\n",
       "      <th>0</th>\n",
       "      <td>Jalisco</td>\n",
       "      <td>2000</td>\n",
       "      <td>6.32</td>\n",
       "    </tr>\n",
       "    <tr>\n",
       "      <th>1</th>\n",
       "      <td>Jalisco</td>\n",
       "      <td>2005</td>\n",
       "      <td>6.75</td>\n",
       "    </tr>\n",
       "    <tr>\n",
       "      <th>2</th>\n",
       "      <td>Jalisco</td>\n",
       "      <td>2010</td>\n",
       "      <td>7.35</td>\n",
       "    </tr>\n",
       "    <tr>\n",
       "      <th>3</th>\n",
       "      <td>Jalisco</td>\n",
       "      <td>2020</td>\n",
       "      <td>8.34</td>\n",
       "    </tr>\n",
       "  </tbody>\n",
       "</table>\n",
       "</div>"
      ],
      "text/plain": [
       "     state  year  population\n",
       "0  Jalisco  2000        6.32\n",
       "1  Jalisco  2005        6.75\n",
       "2  Jalisco  2010        7.35\n",
       "3  Jalisco  2020        8.34"
      ]
     },
     "execution_count": 101,
     "metadata": {},
     "output_type": "execute_result"
    }
   ],
   "source": [
    "from pandas import DataFrame\n",
    "years = [2000, 2005, 2010, 2020]\n",
    "states = ['Jalisco'] * 4\n",
    "populations = [6.32, 6.75, 7.35, 8.34]\n",
    "d = {\"state\":states, \"year\":years, \"population\":populations}\n",
    "DataFrame(d)"
   ]
  },
  {
   "cell_type": "code",
   "execution_count": null,
   "metadata": {},
   "outputs": [],
   "source": []
  }
 ],
 "metadata": {
  "colab": {
   "collapsed_sections": [],
   "name": "Copia de ECID HEAD 2022-1A: 07- Pandas Series",
   "provenance": []
  },
  "kernelspec": {
   "display_name": "Python 3",
   "language": "python",
   "name": "python3"
  },
  "language_info": {
   "codemirror_mode": {
    "name": "ipython",
    "version": 3
   },
   "file_extension": ".py",
   "mimetype": "text/x-python",
   "name": "python",
   "nbconvert_exporter": "python",
   "pygments_lexer": "ipython3",
   "version": "3.8.8"
  }
 },
 "nbformat": 4,
 "nbformat_minor": 1
}
